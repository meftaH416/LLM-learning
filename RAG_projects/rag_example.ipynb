{
 "cells": [
  {
   "cell_type": "markdown",
   "metadata": {
    "id": "WWiBVBuOUm-G"
   },
   "source": [
    "# Part 1: Improving Fine-tuned Model using RAG"
   ]
  },
  {
   "cell_type": "markdown",
   "metadata": {},
   "source": [
    "## 1. Download the PDF"
   ]
  },
  {
   "cell_type": "markdown",
   "metadata": {},
   "source": [
    "PDFs are downloaded once and saved in \"pdfs\" folder.\n",
    "\n",
    "To donwload from other url, uncomment the codes below"
   ]
  },
  {
   "cell_type": "code",
   "execution_count": null,
   "metadata": {},
   "outputs": [],
   "source": [
    "# import os\n",
    "# import requests\n",
    "# from bs4 import BeautifulSoup\n",
    "\n",
    "# # URL of the page to scrape (your provided URL)\n",
    "# url = 'https://www.emaanlibrary.com/book/tafseer-ibn-kathir-in-english-114-surahs-complete/?ebook-category=ruqya&latest=1'\n",
    "\n",
    "# # Send HTTP request to get the page content\n",
    "# response = requests.get(url)\n",
    "\n",
    "# # Parse the HTML content with BeautifulSoup\n",
    "# soup = BeautifulSoup(response.content, 'html.parser')\n",
    "\n",
    "# # Find all <a> tags with href links ending in .pdf\n",
    "# pdf_links = soup.find_all('a', href=True)\n",
    "# pdf_urls = []\n",
    "\n",
    "# # Loop through all links and filter out the ones that are PDFs\n",
    "# for link in pdf_links:\n",
    "#     href = link['href']\n",
    "#     if href.endswith('.pdf'):\n",
    "#         pdf_urls.append(href if 'http' in href else f'https://www.emaanlibrary.com{href}')\n",
    "\n",
    "# # Create a folder to store downloaded PDFs\n",
    "# if not os.path.exists('pdfs'):\n",
    "#     os.makedirs('pdfs')\n",
    "\n",
    "# # Download each PDF\n",
    "# for pdf_url in pdf_urls:\n",
    "#     pdf_name = pdf_url.split(\"/\")[-1]  # Extract the filename from the URL\n",
    "#     pdf_path = os.path.join('pdfs', pdf_name)\n",
    "\n",
    "#     # Send request to download the PDF\n",
    "#     response = requests.get(pdf_url)\n",
    "    \n",
    "#     # Write PDF content to a file\n",
    "#     with open(pdf_path, 'wb') as pdf_file:\n",
    "#         pdf_file.write(response.content)\n",
    "    \n",
    "#     print(f'Downloaded: {pdf_name}')\n"
   ]
  },
  {
   "cell_type": "markdown",
   "metadata": {
    "id": "imVTIbGDUsRt"
   },
   "source": [
    "## 2. Import Library"
   ]
  },
  {
   "cell_type": "code",
   "execution_count": null,
   "metadata": {
    "colab": {
     "base_uri": "https://localhost:8080/"
    },
    "id": "uFwm7wDSoF3V",
    "outputId": "991ac34d-4f12-440b-968a-a2e23df797ec"
   },
   "outputs": [],
   "source": [
    "# !pip install llama-index\n",
    "# !pip install llama-index-embeddings-huggingface\n",
    "# !pip install peft\n",
    "# !pip install auto-gptq\n",
    "# !pip install optimum\n",
    "# !pip install bitsandbytes"
   ]
  },
  {
   "cell_type": "code",
   "execution_count": null,
   "metadata": {
    "id": "QBrjtJTQUp-u"
   },
   "outputs": [],
   "source": [
    "from llama_index.embeddings.huggingface import HuggingFaceEmbedding\n",
    "from llama_index.core import Settings, SimpleDirectoryReader, VectorStoreIndex\n",
    "from llama_index.core.retrievers import VectorIndexRetriever\n",
    "from llama_index.core.node_parser import SentenceSplitter\n",
    "from llama_index.core import StorageContext, load_index_from_storage\n",
    "\n",
    "from llama_index.core.query_engine import RetrieverQueryEngine\n",
    "from llama_index.core.postprocessor import SimilarityPostprocessor\n",
    "import torch\n",
    "\n",
    "from transformers import AutoTokenizer\n",
    "import pandas as pd\n",
    "import numpy as np\n",
    "import matplotlib.pyplot as plt\n",
    "\n",
    "torch.cuda.is_available()"
   ]
  },
  {
   "cell_type": "markdown",
   "metadata": {
    "id": "gm2fzGngqRlW"
   },
   "source": [
    "## 3. Define Llama Index Settings and Vector Database"
   ]
  },
  {
   "cell_type": "markdown",
   "metadata": {},
   "source": [
    "The Settings is a bundle of commonly used resources used during the indexing and querying stage in a LlamaIndex workflow/application.\n",
    "\n",
    "https://docs.llamaindex.ai/en/stable/module_guides/supporting_modules/settings/\n",
    "\n",
    "We initially tried Settings.chunk_size = 120 and Settings.chunk_overlap = 20. However, this process lead to different number of token accross different documents. \n",
    "\n",
    "We then tried token based chunking. https://docs.llamaindex.ai/en/stable/module_guides/loading/node_parsers/\n",
    "\n",
    "import any embedding model on HF hub (https://huggingface.co/spaces/mteb/leaderboard)"
   ]
  },
  {
   "cell_type": "code",
   "execution_count": null,
   "metadata": {
    "colab": {
     "base_uri": "https://localhost:8080/",
     "height": 351,
     "referenced_widgets": [
      "82620098f9cd4a1abccc77c52e18982b",
      "37c1be672cd24b8c8f7d6209f988e69f",
      "4398e1c067b84bde99211306d5edd6ff",
      "a56d59f0457e45d8a98c395b5aabd8f2",
      "861a503041014d97bf322eae9cad1cbe",
      "4e89cf887bea457d9103672cf88bf0dc",
      "4e296a91f9b54d9bb813e7addc6d2c90",
      "ac2746719ccb41188976dc3bb3a42350",
      "d6f4dacdcab14b9eb89426a75b460d7b",
      "0fba33cb62204a909446e50d427cee80",
      "13f0db13dc644bc7bedb251e3fa53830",
      "843006d75c054d2b8e74bd14e6efde20",
      "53cebdfb801340228709b61de207d273",
      "24ce2fc2c92e404fbc38dfddbc8498db",
      "34fd61b3be674f08aa35af4cead7eaaf",
      "fe598449449e4d5eade4a9487651d52d",
      "60a14f019f77423fb085400bb4d51e36",
      "405c08ec6cfa4d8bbf58be3d7be80e24",
      "f6ec81bfb76f474999f92d93be176fa2",
      "25d372eb0ab34689848c704895f138f7",
      "f82ed155df734f16b76f37769e72f1d6",
      "dcf15d6e08e94810b92cddd6461c93e6",
      "4091e7fd93e44297bdae41cfe115ecfd",
      "9a3e527d99d74adfb74066dcaf8b46f4",
      "bd1e61e67eff4072a9ad9dcd8a3687ca",
      "38ac6fd24d5a449c9223b003e5e7cbf0",
      "813c5afcd5f741a398bba20ec58f7ea8",
      "4207cc261cef442597b3739e8b4631ac",
      "2cd4a33cea8f49f6a4a6af665b435650",
      "31ca63e289b94820a971adc6c34bcf36",
      "73fbfca9d6eb42a89f7e8e9c08429ca8",
      "7a69e4f60d7f49edbd80df75fc695528",
      "3f78b01c526b4860b36eaaf49c5b8392",
      "f39832a0067b4de2bd093de5b25292c6",
      "f692e70a0f1240e89709214406476975",
      "653fb93920064a0a8fb578d30f08f5c4",
      "5522eb38a973474cb14f27170c62ab95",
      "435006ced92148c39c0ec1e02b10a2c1",
      "b120638c81fd49be94976b8fe6bc7ecc",
      "a19a18b4afe5485ea325133fab080999",
      "baac51d3ed414acd9fb44b2782a32808",
      "fce0367449544a3f851aca1d2ea1b56e",
      "1aea0ffcfb6b4d369946f405b794d2da",
      "de9f992fdd824ed5978006293b6c1cf1",
      "2b8c3974c321467293af65fc704c42ac",
      "790d261faf2d447f8b45ce1c274151a2",
      "827a9ec816d7461f84635fd7e51aaa0b",
      "d927d9bfb88e4530a496fde529592ef0",
      "419bb76545a646cdb292bf3e14fff8e4",
      "3ef05f6a52ed4755936b94979814e0cc",
      "b880a1ea405449acbd63ec497ef74315",
      "045ca33e719448c9a4c365586924d72c",
      "17df5e2958a7488b85334f09dc3eddc5",
      "68eed345d6544395a1e7995205d88402",
      "ef5091296b814751b15f18d308e8cb24",
      "6c8d21aacfe2496b9862dba85ed053c2",
      "4babb1438fd348b2b3052d59a60e8ed7",
      "b0a258fb6acb4aca8c11fd2d8b8a75f3",
      "20ff6075faa549f9bd954e6691a87ac6",
      "f132885ba3634b8d9a34cbda8503a94d",
      "8bf03ffd26b740b7a635fb0c5d905d56",
      "77245bc643c14ddfabe47901ebaca21f",
      "99e10e2453364871815ac77e6a9e1de0",
      "79c997c196454342a322e96af72c38a3",
      "d4ddc1ce1dca4ab7baecee8282a51642",
      "08fbef47cdc2426d97de406844659fde"
     ]
    },
    "id": "lBuIj8Xzqb6A",
    "outputId": "11fdb088-bb1a-4536-a222-e8269ff9f8af"
   },
   "outputs": [],
   "source": [
    "# import any embedding model on HF hub (https://huggingface.co/spaces/mteb/leaderboard)\n",
    "\n",
    "# 384 dimension\n",
    "# Settings.embed_model = HuggingFaceEmbedding(model_name=\"sentence-transformers/paraphrase-multilingual-MiniLM-L12-v2\"\") # alternative model\n",
    "\n",
    "# ---- SETUP ----\n",
    "# Embedding model config\n",
    "model_name = \"sentence-transformers/paraphrase-multilingual-mpnet-base-v2\"\n",
    "Settings.embed_model = HuggingFaceEmbedding(\n",
    "    model_name=model_name,\n",
    "    show_progress_bar=True\n",
    ")\n",
    "\n",
    "Settings.llm = None\n",
    "# Tokenizer \n",
    "embed_tokenizer = AutoTokenizer.from_pretrained(model_name)\n",
    "\n",
    "Settings.chunk_size = 128\n",
    "Settings.chunk_overlap = 32"
   ]
  },
  {
   "cell_type": "markdown",
   "metadata": {
    "id": "eGXecXc5tPKL"
   },
   "source": [
    "## 4. Read Preprocess data"
   ]
  },
  {
   "attachments": {
    "0154dd46-faed-42f7-990c-d4c37f8c1eae.png": {
     "image/png": "[encoded data removed]"
    },
    "a673e00d-8144-4d35-93a1-abab33af5d20.png": {
     "image/png": "[encoded data removed]"
    }
   },
   "cell_type": "markdown",
   "metadata": {},
   "source": [
    "SimpleDirectoryReader is the simplest way to load data from local files into LlamaIndex. For production use cases it's more likely that you'll want to use one of the many Readers available on LlamaHub, but SimpleDirectoryReader is a great way to get started. \n",
    "https://docs.llamaindex.ai/en/stable/module_guides/loading/simpledirectoryreader/\n",
    "\n",
    "tqdm is used to tract progress\n",
    " \n",
    " ### Sample Page of Tafsir\n",
    " ![image.png](attachment:0154dd46-faed-42f7-990c-d4c37f8c1eae.png) \n",
    " ### Sample page of a Hadith\n",
    " ![image.png](attachment:a673e00d-8144-4d35-93a1-abab33af5d20.png) \n",
    "\n",
    "From the above we can see that the 114 tafsir dosuments we used have less words per page compared to the words count of two Hadith documents we are going to embed."
   ]
  },
  {
   "cell_type": "markdown",
   "metadata": {},
   "source": [
    "### 4.1 Load documents using SimpleDirectoryReader\n",
    "We fill first embed the documents using chunk size of 256 with 32 overlapping.  These numbers are chosen after several trials and errors."
   ]
  },
  {
   "cell_type": "code",
   "execution_count": null,
   "metadata": {
    "id": "_1pAvTwntWD0"
   },
   "outputs": [],
   "source": [
    "from tqdm import tqdm \n",
    "from time import perf_counter as timer\n",
    "start_time = timer()\n",
    "\n",
    "reader = SimpleDirectoryReader(\n",
    "             input_dir = \"pdfs\", \n",
    "             # exclude=[\"en_Sahih_Al-Bukhari.pdf\", \"en_Sahih_Muslim.pdf\"],\n",
    "             recursive = False)\n",
    "documents = []\n",
    "for docs in tqdm(reader.iter_data()):\n",
    "    documents.extend(docs)\n",
    "\n",
    "end_time = timer()\n",
    "print(f\"[INFO] Time taken: {end_time-start_time:.5f} seconds.\")"
   ]
  },
  {
   "cell_type": "markdown",
   "metadata": {},
   "source": [
    "### 4.2 Use sentencizer \n",
    "A better way to chunk documents is to create sentences using Natural language and later join them together to get the context. This process ensures that during chunking the sentences aren’t separated—they're all jumbled together."
   ]
  },
  {
   "cell_type": "code",
   "execution_count": null,
   "metadata": {},
   "outputs": [],
   "source": [
    "from spacy.lang.en import English # see https://spacy.io/usage for install instructions\n",
    "\n",
    "nlp = English()\n",
    "\n",
    "# Add a sentencizer pipeline, see https://spacy.io/api/sentencizer/ \n",
    "nlp.add_pipe(\"sentencizer\")"
   ]
  },
  {
   "cell_type": "markdown",
   "metadata": {},
   "source": [
    "### 4.3 Extract relevant info from loaded documents\n",
    "We will create chunk and extract information from each chunk."
   ]
  },
  {
   "cell_type": "code",
   "execution_count": null,
   "metadata": {},
   "outputs": [],
   "source": [
    "docs = []\n",
    "for ii in tqdm(range(len(documents))):\n",
    "    file_name = documents[ii].metadata['file_name']\n",
    "    page = documents[ii].metadata['page_label']\n",
    "    content = documents[ii].text.replace('\\n', '').replace('  ', ' ').replace('\\'', '').replace('...', '.')\n",
    "    sentences = [str(sent) for sent in list(nlp(content).sents)]\n",
    "    page_characters = len(content)\n",
    "    page_tokens = len(embed_tokenizer.encode(content, truncation=False))\n",
    "    \n",
    "    docs.append(\n",
    "        {\"file_name\": file_name,\n",
    "         \"page\": page,\n",
    "         \"content\":content,\n",
    "         \"sentences\":sentences,\n",
    "         \"chunk_characters\": page_characters,\n",
    "         \"chunk_tokens\": page_tokens}\n",
    "    )"
   ]
  },
  {
   "cell_type": "code",
   "execution_count": null,
   "metadata": {},
   "outputs": [],
   "source": [
    "import random \n",
    "random.sample(docs, 3)"
   ]
  },
  {
   "cell_type": "markdown",
   "metadata": {},
   "source": [
    "### 4.4 Create Pandas dataframe"
   ]
  },
  {
   "cell_type": "code",
   "execution_count": null,
   "metadata": {},
   "outputs": [],
   "source": [
    "import pandas as pd\n",
    "import numpy as np\n",
    "\n",
    "df = pd.DataFrame(docs)\n",
    "df.tail(10)"
   ]
  },
  {
   "cell_type": "code",
   "execution_count": null,
   "metadata": {},
   "outputs": [],
   "source": [
    "df.describe()"
   ]
  },
  {
   "cell_type": "code",
   "execution_count": null,
   "metadata": {},
   "outputs": [],
   "source": [
    "import matplotlib.pyplot as plt\n",
    "\n",
    "plt.figure(figsize=(10, 6))\n",
    "plt.plot(df.index, df[\"chunk_tokens\"], color='k', label=\"Token Count per Chunk\")\n",
    "plt.axhline(df['chunk_tokens'].mean(), color='red', linestyle='--', label='Mean Token Count')\n",
    "plt.xlabel(\"Chunk Index\")\n",
    "plt.ylabel(\"Number of Tokens per Chunk\")\n",
    "plt.legend()\n",
    "plt.grid(False)\n",
    "plt.show()"
   ]
  },
  {
   "cell_type": "markdown",
   "metadata": {},
   "source": [
    "### Note\n",
    "We can see that the token size in these last documents are higher than the LLM model can handle. \n",
    "Therefore, we will procee the data using manual sentence chunking.\n",
    "\n",
    "We created sentences in our dataframe so that we can use manual chunking procedure."
   ]
  },
  {
   "cell_type": "markdown",
   "metadata": {},
   "source": [
    "## 5. Manual Chunking of Documents\n",
    "We created sentences in our dataframe so that we can use manual chunking procedure."
   ]
  },
  {
   "cell_type": "code",
   "execution_count": null,
   "metadata": {},
   "outputs": [],
   "source": [
    "import re\n",
    "def create_chunk(docs, slice_size=10):\n",
    "    docs_and_chunks = []\n",
    "    for item in tqdm(docs, desc=\"Creating Chunks\"):\n",
    "        sentence_chunks = [item[\"sentences\"][i:i + slice_size]\n",
    "                           for i in range(0, len(item[\"sentences\"]), slice_size)]\n",
    "        \n",
    "        item[\"sentence_chunks\"] = str(sentence_chunks)\n",
    "        item[\"num_chunks\"] = len(sentence_chunks)\n",
    "\n",
    "        for sentence_chunk in sentence_chunks:\n",
    "            chunk_text = re.sub(r'\\.([A-Z])', r'. \\1', \" \".join(sentence_chunk).strip())\n",
    "            page_tokens = len(embed_tokenizer.encode(chunk_text, truncation=False))\n",
    "            chunk_dict = {\n",
    "                \"document_name\": item[\"file_name\"],\n",
    "                \"page_number\": item[\"page\"],\n",
    "                \"sentence_chunk\": chunk_text,\n",
    "                \"chunk_char_count\": len(chunk_text),\n",
    "                \"chunk_word_count\": len(chunk_text.split()),\n",
    "                \"chunk_token_count\": page_tokens\n",
    "            }\n",
    "\n",
    "            docs_and_chunks.append(chunk_dict)\n",
    "\n",
    "    return docs_and_chunks"
   ]
  },
  {
   "cell_type": "code",
   "execution_count": null,
   "metadata": {},
   "outputs": [],
   "source": [
    "chunked_docs = create_chunk(docs, slice_size=10)"
   ]
  },
  {
   "cell_type": "code",
   "execution_count": null,
   "metadata": {},
   "outputs": [],
   "source": [
    "random.sample(chunked_docs, 2)"
   ]
  },
  {
   "cell_type": "code",
   "execution_count": null,
   "metadata": {},
   "outputs": [],
   "source": [
    "chunked_df = pd.DataFrame(chunked_docs)\n",
    "chunked_df.tail()"
   ]
  },
  {
   "cell_type": "code",
   "execution_count": null,
   "metadata": {},
   "outputs": [],
   "source": [
    "import matplotlib.pyplot as plt\n",
    "\n",
    "plt.figure(figsize=(10, 6))\n",
    "plt.plot(chunked_df.index, chunked_df[\"chunk_token_count\"], color='k', label=\"Token Count per Chunk\")\n",
    "plt.axhline(chunked_df['chunk_token_count'].mean(), color='red', linestyle='--', label='Mean Token Count')\n",
    "plt.xlabel(\"Chunk Index\")\n",
    "plt.ylabel(\"Number of Tokens per Chunk\")\n",
    "plt.legend()\n",
    "plt.grid(False)\n",
    "plt.show()"
   ]
  },
  {
   "cell_type": "code",
   "execution_count": null,
   "metadata": {},
   "outputs": [],
   "source": [
    "chunked_df.describe()"
   ]
  },
  {
   "cell_type": "markdown",
   "metadata": {},
   "source": [
    "### 5.1 Data filtration\n",
    "Some of the chunked has very minimal token. We fill remove those from dataset"
   ]
  },
  {
   "cell_type": "code",
   "execution_count": null,
   "metadata": {},
   "outputs": [],
   "source": [
    "min_token_df = chunked_df[chunked_df[\"chunk_token_count\"] < 7]\n",
    "print(len(min_token_df))\n",
    "\n",
    "min_token_df"
   ]
  },
  {
   "cell_type": "code",
   "execution_count": null,
   "metadata": {},
   "outputs": [],
   "source": [
    "import pandas as pd\n",
    "\n",
    "def filter_min_tokens(df, min_tokens=7):\n",
    "    return df[df[\"chunk_token_count\"] >= min_tokens].reset_index(drop=True)\n",
    "\n",
    "filtered_df = filter_min_tokens(chunked_df, min_tokens= 7)"
   ]
  },
  {
   "cell_type": "code",
   "execution_count": null,
   "metadata": {},
   "outputs": [],
   "source": [
    "filtered_df.head()"
   ]
  },
  {
   "cell_type": "code",
   "execution_count": null,
   "metadata": {},
   "outputs": [],
   "source": [
    "import matplotlib.pyplot as plt\n",
    "\n",
    "plt.figure(figsize=(10, 6))\n",
    "plt.plot(filtered_df.index, filtered_df[\"chunk_token_count\"], color='k', label=\"Token Count per Chunk\")\n",
    "plt.axhline(filtered_df['chunk_token_count'].mean(), color='red', linestyle='--', label='Mean Token Count')\n",
    "plt.xlabel(\"Chunk Index\")\n",
    "plt.ylabel(\"Number of Tokens per Chunk\")\n",
    "plt.legend()\n",
    "plt.grid(False)\n",
    "plt.show()"
   ]
  },
  {
   "cell_type": "markdown",
   "metadata": {},
   "source": [
    "### 5.2 Saving the chunked dataframe for re-use"
   ]
  },
  {
   "cell_type": "code",
   "execution_count": null,
   "metadata": {},
   "outputs": [],
   "source": [
    "# Save the DataFrame\n",
    "filtered_df.to_csv('./pdfs/filtered_df.csv', index=False)"
   ]
  },
  {
   "cell_type": "markdown",
   "metadata": {},
   "source": [
    "## 6. Vector Store Index"
   ]
  },
  {
   "cell_type": "markdown",
   "metadata": {},
   "source": [
    "An Index is a data structure that allows us to quickly retrieve relevant context for a user query. For LlamaIndex, it's the core foundation for retrieval-augmented generation (RAG) use-cases.\n",
    "Vector Stores are a key component of retrieval-augmented generation (RAG) and so you will end up using them in nearly every application you make using LlamaIndex, either directly or indirectly.\n",
    "https://docs.llamaindex.ai/en/stable/module_guides/storing/vector_stores/"
   ]
  },
  {
   "cell_type": "code",
   "execution_count": null,
   "metadata": {},
   "outputs": [],
   "source": [
    "# Loading saved dataframe\n",
    "filtered_df = pd.read_csv(\"./pdfs/filtered_df.csv\")\n",
    "filtered_df.head()"
   ]
  },
  {
   "cell_type": "markdown",
   "metadata": {},
   "source": [
    "### 6.1 Creating LlamaIndex Document"
   ]
  },
  {
   "cell_type": "code",
   "execution_count": null,
   "metadata": {},
   "outputs": [],
   "source": [
    "from llama_index.core.schema import Document\n",
    "import os\n",
    "print(os.getcwd())\n",
    "\n",
    "filtered_documents = [\n",
    "    Document(\n",
    "        text=row[\"sentence_chunk\"],\n",
    "        metadata={\n",
    "            \"document_name\": row[\"document_name\"],\n",
    "            \"page_number\": row[\"page_number\"],\n",
    "            \"chunk_char_count\": row[\"chunk_char_count\"],\n",
    "            \"chunk_word_count\": row[\"chunk_word_count\"],\n",
    "            \"chunk_token_count\": row[\"chunk_token_count\"]\n",
    "        }\n",
    "    )\n",
    "    for _, row in filtered_df.iterrows()\n",
    "]"
   ]
  },
  {
   "cell_type": "code",
   "execution_count": null,
   "metadata": {},
   "outputs": [],
   "source": [
    "filtered_documents[:1]"
   ]
  },
  {
   "cell_type": "markdown",
   "metadata": {},
   "source": [
    "### 6.2 Store data in faiss Store Index\n",
    "https://docs.llamaindex.ai/en/stable/examples/vector_stores/FaissIndexDemo/"
   ]
  },
  {
   "cell_type": "code",
   "execution_count": null,
   "metadata": {},
   "outputs": [],
   "source": [
    "import faiss\n",
    "\n",
    "# dimensions of text-ada-embedding-002\n",
    "# https://huggingface.co/sentence-transformers/paraphrase-multilingual-mpnet-base-v2\n",
    "d = 768\n",
    "faiss_index = faiss.IndexFlatL2(d)"
   ]
  },
  {
   "cell_type": "code",
   "execution_count": null,
   "metadata": {},
   "outputs": [],
   "source": [
    "from llama_index.core import (\n",
    "    SimpleDirectoryReader,\n",
    "    load_index_from_storage,\n",
    "    VectorStoreIndex,\n",
    "    StorageContext,\n",
    ")\n",
    "from llama_index.vector_stores.faiss import FaissVectorStore\n",
    "from IPython.display import Markdown, display"
   ]
  },
  {
   "cell_type": "code",
   "execution_count": null,
   "metadata": {},
   "outputs": [],
   "source": [
    "vector_store = FaissVectorStore(faiss_index=faiss_index)\n",
    "storage_context = StorageContext.from_defaults(vector_store=vector_store)\n",
    "index = VectorStoreIndex.from_documents(\n",
    "    filtered_documents, storage_context=storage_context\n",
    ")"
   ]
  },
  {
   "cell_type": "code",
   "execution_count": null,
   "metadata": {},
   "outputs": [],
   "source": [
    "# save index to disk\n",
    "index.storage_context.persist(persist_dir=\"pdfs/faiss_db\")"
   ]
  },
  {
   "cell_type": "markdown",
   "metadata": {},
   "source": [
    "## 7. Reload Saved Documents"
   ]
  },
  {
   "cell_type": "code",
   "execution_count": null,
   "metadata": {},
   "outputs": [],
   "source": [
    "import faiss\n",
    "\n",
    "# Reload the same embedding model\n",
    "model_name=\"sentence-transformers/paraphrase-multilingual-mpnet-base-v2\"\n",
    "Settings.embed_model = HuggingFaceEmbedding(model_name=model_name)\n",
    "\n",
    "# load index from disk\n",
    "vector_store = FaissVectorStore.from_persist_dir(\"pdfs/faiss_db\")\n",
    "storage_context = StorageContext.from_defaults(\n",
    "    vector_store=vector_store, persist_dir=\"pdfs/faiss_db\"\n",
    ")\n",
    "index = load_index_from_storage(storage_context=storage_context)"
   ]
  },
  {
   "cell_type": "markdown",
   "metadata": {
    "id": "vETeL8CZt_Bl"
   },
   "source": [
    "### 7.1 Set Up Search Function"
   ]
  },
  {
   "cell_type": "code",
   "execution_count": null,
   "metadata": {
    "id": "jERXCirtuIKp"
   },
   "outputs": [],
   "source": [
    "# set number of docs to retreive\n",
    "top_k = 5\n",
    "\n",
    "# configure retriever\n",
    "retriever = VectorIndexRetriever(\n",
    "    index=index,\n",
    "    similarity_top_k=top_k,\n",
    ")"
   ]
  },
  {
   "cell_type": "code",
   "execution_count": null,
   "metadata": {
    "id": "Rp0PNtjHuJ39"
   },
   "outputs": [],
   "source": [
    "# assemble query engine\n",
    "query_engine = RetrieverQueryEngine(\n",
    "    retriever=retriever,\n",
    "    node_postprocessors=[SimilarityPostprocessor(similarity_cutoff=0.4)],\n",
    ")"
   ]
  },
  {
   "cell_type": "markdown",
   "metadata": {
    "id": "ciyNcoKbuS90"
   },
   "source": [
    "### 7.2 Example: Retrieve Relevant Docs"
   ]
  },
  {
   "cell_type": "code",
   "execution_count": null,
   "metadata": {
    "id": "VoXW6EovuO64"
   },
   "outputs": [],
   "source": [
    "manual_questions = [\"What is the minimum amount of wealth a person need to own to pay Jakat\",\n",
    "                    \"When did battle of badr occured?\",\n",
    "                    \"Who will enter the paradise first?\"\n",
    "]\n",
    "\n",
    "query_list = manual_questions\n",
    "\n",
    "# query documents\n",
    "query = query_list[0]\n",
    "response = query_engine.query(query)"
   ]
  },
  {
   "cell_type": "code",
   "execution_count": null,
   "metadata": {
    "colab": {
     "base_uri": "https://localhost:8080/"
    },
    "id": "jgpoCg1Dwk_S",
    "outputId": "8535142d-99cd-4333-e44a-bbff46af75be"
   },
   "outputs": [],
   "source": [
    "# reformat response\n",
    "context = \"Context:\\n\"\n",
    "top_k = min(top_k, len(response.source_nodes))  # avoid index overflow\n",
    "\n",
    "for i in range(top_k):\n",
    "    node = response.source_nodes[i].node  # Get the actual node object\n",
    "    text = node.text\n",
    "    metadata = node.metadata  # This is a dictionary\n",
    "\n",
    "    context += f\"--- Source {i+1} ---\\n\"\n",
    "    context += f\"Text: {text}\\n\"\n",
    "    context += f\"Metadata: {metadata}\\n\\n\"\n",
    "\n",
    "print(context)"
   ]
  },
  {
   "cell_type": "markdown",
   "metadata": {
    "id": "FsTh3OHpwxWV"
   },
   "source": [
    "## 8. Import LLM for generating answer\n",
    "\n",
    "Now we will use a Large Language Model to generate answer using user query with/without context retrieved from our Vector Store."
   ]
  },
  {
   "cell_type": "code",
   "execution_count": null,
   "metadata": {},
   "outputs": [],
   "source": [
    "# Run the following to empty the VRAM:\n",
    "import gc\n",
    "import torch\n",
    "# del model, tokenizer, pipe\n",
    "\n",
    "# Flush memory\n",
    "gc.collect()\n",
    "torch.cuda.empty_cache()"
   ]
  },
  {
   "cell_type": "code",
   "execution_count": null,
   "metadata": {
    "colab": {
     "base_uri": "https://localhost:8080/",
     "height": 360,
     "referenced_widgets": [
      "85c9b682dfd543859c7a4185531fed4a",
      "0185310aedaa48a299d3ba1c5056b157",
      "f6d4ed3be3c247aea25ece7cbd0b1b10",
      "8166825db5634343973e47323bf01ecd",
      "886681da31fa447097221fee4c05c11c",
      "f8aee8a1c1be45478a8b6e8cb3e36686",
      "62768936f924410abdf73283096d347f",
      "2fa5b2ff6b67411e8337bc24b18534fb",
      "c43c4bb862a64ae88d9a4477ab608ffd",
      "e5002edcf0474f65a7fc8fffcfc46c3b",
      "c2a1f13e77ff4216823b156821183541",
      "697781c2a08f4011abd1e7efe17c5cf1",
      "c0ea03f3eefd4c7481a9caf871f959cf",
      "aeb94460ed334232be7139aaf65ba495",
      "510a20e94bc842019da6fe65e6cd1f25",
      "6fd5f1832a7246998738af12b75e9d93",
      "c1bd1c0db8964f948da847df6e2df098",
      "e6a826c41b914dab9528296cd91985ab",
      "faed32cee813453599873ed11227a5a4",
      "be6f8641f5084e0eb25bcfbc787c39e5",
      "9e85d02e07e546d1a987794ede8efd00",
      "d174036fdeaf47f7a660e600330ea786",
      "5934b79ec2c84079bca6a4b9e6b197eb",
      "ac83ec923142425eaff61c15b214759b",
      "4c9a8422b9854a4f9a7873e851bd8065",
      "c195aca01be642b58e7f52628cebcc94",
      "0c0ed8d081a34cdd97e7716fe19aaccc",
      "56389cac4977443f8e3c55372ad1e87c",
      "1f5ec613b50f42a291f5cc133a803579",
      "5e307194e31646158b87b7b0b2acdce3",
      "80a94cbe810e4023bce91a24b79452c4",
      "f2671d5d8d524ae68015d3f32075083c",
      "6da3476a008547b8a8865b8a22471873",
      "5ac4055005a04b249849352a928dafa6",
      "ac521f53420c4c358d067b2e98f83b08",
      "e5c05eafc1394f5d965797af1246d16c",
      "8ece89f78eaa425cb3142bf8460bdd41",
      "6a95b94a4a1d4515aab513670427f0b1",
      "344fc41d34964f57a747c2f82633f9e8",
      "66cd8106fc114efab8c65775cb679e46",
      "4ab2a2baedd4463fafe9e986974bfb12",
      "33e23afd402641aa9359404dbad4483d",
      "7029da89c1d542369e91033f359733f9",
      "a32b3be21dc24196b401f48277a4f309",
      "b2d42b29d0d3494bb3580eb79eba9c88",
      "0724fefec56540e6bedc28409f226eb5",
      "9a2052e9e1ea4cfeb4d5f315026cc318",
      "8b802052bbc14524bf0d202afdcfa36f",
      "e6946288c32843aeb91b21ac954c3159",
      "09a11a527abb4aaaa9853dc0c69de993",
      "a79586bdd367405da4ab26c76b1a5af0",
      "b681609dff5c4af3b7de00f929d223b7",
      "265ac3d8b7ca4ec1971bf1f21c4bc648",
      "1388aa35274e40f6b8d93a714908dc37",
      "3ed83840e39945e49c402c9e9377406d",
      "c725a77c44d94877b9fccee922db2e86",
      "963ce362199b44418b2589426e036a3f",
      "5cf362ff6665434e933479d80f2e0b8e",
      "33bffae85d834539bf2686cdc21a30da",
      "fb96b0b162744bd7a21b5a30fc82c740",
      "58e0fff19ad04fe18ce2f0f53d0b27aa",
      "fdab28241e1f4ef79ea32e725942aefa",
      "d8eeca1e711d4550bf3c9154fde28239",
      "accd0655910f453db256c49566c24edd",
      "949eb7f9093d4ef6ad80be6458c9d1a2",
      "abb36aa97f204ce684dc2344b93ec8f1",
      "3913980590de42e48f6445e84b90323d",
      "e22d71eeb4db4ea7adb088e7c8ff3cf6",
      "45e39319315d437ca1b2f1f62c2d8ef2",
      "5309845492094dd0b8e8f44257abbf37",
      "1209b0a52ae1416084165ea2c69db5a6",
      "f2dcc4d0e15c4d65b3db73813da047cd",
      "75dc448cdb3a49fa9b15b206e1572938",
      "2ebdce5121a1479da36c232f20ec1a34",
      "0a1367131bd84bf480d08d4e9f7d9b36",
      "7a087ace59044503a6a7e31fdccdfdd4",
      "a10718a18ef2463999735c3e989e2373",
      "aa858f624d3440cc82a4fac782071c74",
      "8452654044824cb891564a450d9cc9c4",
      "73bd3d66cbad446f8dfa7f749cd74777",
      "0d1fb183c0894027bf457115f302d361",
      "e26b91207dcb4defb1c4a2fe0e2f820a",
      "a8606fcfe7c94b7c9cdb1b943701a8df",
      "9c18d9304dee4e5f860222bfcb301997",
      "7dc5919a42624bd4adb09ddedf421d0a",
      "c288e0491717486ab83fdde80f19569a",
      "a16a9378155f4a40a8ac148f50910ed0",
      "14300874196f4383b6b3d19be349bb59",
      "5ae1629d88064fe48f2500bcf2680b47",
      "4f9767291dc2424cac8f393e843fb525",
      "74fa0f7630c24f24951b420b06dca580",
      "b83d10440f3f417190a6bd0c6e2d26b8",
      "c2596898b29a4c32be7b00c8710cc584",
      "0661e28eb4a341fa90a05781fc116155",
      "753ea212df4e4413844e90b24f2511cd",
      "1b964f7dd75f442c88aa41d15478998c",
      "c765e31351e84bb69ea7cf1a0b05d1a6",
      "4e19806660484f749785a8e920cb5c90",
      "6e046efbd91043d6af714ef6cdc8242c"
     ]
    },
    "id": "6vlszLofwmpR",
    "outputId": "6cd1bb1b-b303-4ef7-b051-c831bf78adc8"
   },
   "outputs": [],
   "source": [
    "# load fine-tuned model from hub\n",
    "from peft import PeftModel, PeftConfig\n",
    "from transformers import AutoModelForCausalLM, AutoTokenizer\n",
    "\n",
    "# model_name = \"TheBloke/Mistral-7B-Instruct-v0.2-GPTQ\"\n",
    "\n",
    "model_name = \"Qwen/Qwen2.5-3B-Instruct\"\n",
    "model = AutoModelForCausalLM.from_pretrained(model_name,\n",
    "                                             device_map=\"auto\",\n",
    "                                             trust_remote_code=False,\n",
    "                                             revision=\"main\")\n",
    "\n",
    "# load tokenizer\n",
    "tokenizer = AutoTokenizer.from_pretrained(model_name, use_fast=True)\n",
    "tokenizer.pad_token = tokenizer.eos_token"
   ]
  },
  {
   "cell_type": "markdown",
   "metadata": {},
   "source": [
    "### 8.1 Check the model size and memory requirements"
   ]
  },
  {
   "cell_type": "code",
   "execution_count": null,
   "metadata": {},
   "outputs": [],
   "source": [
    "def get_model_num_params(model: torch.nn.Module):\n",
    "    return sum([param.numel() for param in model.parameters()])\n",
    "\n",
    "get_model_num_params(model)"
   ]
  },
  {
   "cell_type": "code",
   "execution_count": null,
   "metadata": {},
   "outputs": [],
   "source": [
    "def get_model_mem_size(model: torch.nn.Module):\n",
    "    \"\"\"\n",
    "    Get how much memory a PyTorch model takes up.\n",
    "\n",
    "    See: https://discuss.pytorch.org/t/gpu-memory-that-model-uses/56822\n",
    "    \"\"\"\n",
    "    # Get model parameters and buffer sizes\n",
    "    mem_params = sum([param.nelement() * param.element_size() for param in model.parameters()])\n",
    "    mem_buffers = sum([buf.nelement() * buf.element_size() for buf in model.buffers()])\n",
    "\n",
    "    # Calculate various model sizes\n",
    "    model_mem_bytes = mem_params + mem_buffers # in bytes\n",
    "    model_mem_mb = model_mem_bytes / (1024**2) # in megabytes\n",
    "    model_mem_gb = model_mem_bytes / (1024**3) # in gigabytes\n",
    "\n",
    "    return {\"model_mem_bytes\": model_mem_bytes,\n",
    "            \"model_mem_mb\": round(model_mem_mb, 2),\n",
    "            \"model_mem_gb\": round(model_mem_gb, 2)}\n",
    "\n",
    "get_model_mem_size(model)"
   ]
  },
  {
   "cell_type": "markdown",
   "metadata": {
    "id": "Aajg1MVTzury"
   },
   "source": [
    "## 9. Text Generation using LLM"
   ]
  },
  {
   "cell_type": "code",
   "execution_count": null,
   "metadata": {},
   "outputs": [],
   "source": [
    "# List of queries\n",
    "manual_questions = [\"Who are the people bound to pay Jakat?\",\n",
    "                    \"When did battle of badr occured?\",\n",
    "                    \"Name the person who will enter the paradise first?\",\n",
    "                    \n",
    "]\n",
    "chat_gpt = [\n",
    "    \"What rights does Islam grant to women regarding property and inheritance?\",\n",
    "    \"Are women allowed to seek education in Islam?\",\n",
    "    \"Can women work and earn a living in Islam?\",\n",
    "    \"Do women have the right to choose their spouse in Islam?\",\n",
    "    \"What is the Islamic stance on domestic violence?\",\n",
    "    \"Are men and women equal in spiritual matters in Islam?\",\n",
    "    \"Do women have the right to participate in public and political life in Islam?\",\n",
    "    \"What does Islam say about women's dress code?\",\n",
    "    \"Can women lead prayers in Islam?\",\n",
    "    \"How does Islam address the issue of gender equality?\"\n",
    "]\n",
    "\n",
    "query_list = manual_questions + chat_gpt"
   ]
  },
  {
   "cell_type": "markdown",
   "metadata": {},
   "source": [
    "### 9.1 Text generation without context"
   ]
  },
  {
   "cell_type": "code",
   "execution_count": null,
   "metadata": {
    "colab": {
     "base_uri": "https://localhost:8080/"
    },
    "id": "P-CFTwGa0BEB",
    "outputId": "c91f9bbc-957e-4198-a3fe-c93b7494d4e3"
   },
   "outputs": [],
   "source": [
    "model.eval()\n",
    "\n",
    "# Choose query index 4 (number --5) from the query list\n",
    "query = query_list[4]\n",
    "\n",
    "# Created a prompt template\n",
    "base_prompt = f\"\"\"\n",
    "    Provide a concise answer based on the Quran, tafsir, and hadith.\n",
    "    Do not include the reasoning, just the answer. Make sure the answer is factually correct based on islamic \n",
    "    faith.\n",
    "    \\n{query}\n",
    "\"\"\"\n",
    "\n",
    "# Create prompt template for instruction-tuned model\n",
    "dialogue_template = [\n",
    "        {\"role\": \"user\",\n",
    "        \"content\": base_prompt}\n",
    "    ]\n",
    "\n",
    "# Apply the chat template\n",
    "prompt = tokenizer.apply_chat_template(conversation=dialogue_template,\n",
    "                                          tokenize=False,\n",
    "                                          add_generation_prompt=True)\n",
    "\n",
    "input_ids = tokenizer(prompt, return_tensors=\"pt\").to(\"cuda\")\n",
    "outputs = model.generate(\n",
    "                         **input_ids,\n",
    "                         do_sample=True,\n",
    "                         temperature = 0.7,\n",
    "                         max_new_tokens = 256)\n",
    "\n",
    "# Turn the output tokens into text\n",
    "output_text = tokenizer.decode(outputs[0])\n",
    "\n",
    "print(output_text)"
   ]
  },
  {
   "cell_type": "markdown",
   "metadata": {},
   "source": [
    "### 9.2 Text generation with context (RAG)"
   ]
  },
  {
   "cell_type": "code",
   "execution_count": null,
   "metadata": {},
   "outputs": [],
   "source": [
    "# query documents\n",
    "query = query_list[4]\n",
    "response = query_engine.query(query)\n",
    "\n",
    "# container for all document info\n",
    "doc_info = []\n",
    "\n",
    "top_k = min(top_k, len(response.source_nodes))\n",
    "\n",
    "for i in range(top_k):\n",
    "    node = response.source_nodes[i].node\n",
    "    text = node.text\n",
    "    metadata = node.metadata\n",
    "\n",
    "    file_name = metadata.get('document_name', f'doc_{i}').replace('.pdf', '')\n",
    "    page = str(metadata.get('page_number', 'unknown'))\n",
    "    score = round(response.source_nodes[i].score, 4)\n",
    "\n",
    "    doc_info.append({\n",
    "        \"score\": score,\n",
    "        \"content\": text.strip(),\n",
    "        \"page\": page,\n",
    "        \"file_name\": file_name\n",
    "    })\n",
    "\n",
    "# sort by ascending similarity score\n",
    "doc_info = sorted(doc_info, key=lambda x: x[\"score\"], reverse=True)\n",
    "\n",
    "# now extract individual fields\n",
    "scores = [str(item[\"score\"]) for item in doc_info]\n",
    "contents = [item[\"content\"] for item in doc_info]\n",
    "pages = [item[\"page\"] for item in doc_info]\n",
    "file_names = [item[\"file_name\"] for item in doc_info]\n",
    "\n",
    "# final context dictionary\n",
    "context = {\n",
    "    \"scores\": ', '.join(scores),\n",
    "    \"content\": \"\\n\".join(contents),\n",
    "    \"page\": ', '.join(pages),\n",
    "    \"file_name\": ', '.join(file_names)\n",
    "}\n",
    "\n",
    "# print\n",
    "print(context)"
   ]
  },
  {
   "cell_type": "code",
   "execution_count": null,
   "metadata": {},
   "outputs": [],
   "source": [
    "model.eval()\n",
    "\n",
    "query = query_list[4]\n",
    "\n",
    "base_prompt = f\"\"\"\n",
    "    Please see and following context given below.\n",
    "    \\n{context['content']}\n",
    "    Answer the following query based on Quran, tafsir and hadith of Islamic faith. \n",
    "    Don't return the thinking, only return the answer.\n",
    "    Make sure your answers are as concise as possible and factually correct based on islamic faith.\n",
    "    \\n{query}\n",
    "     \n",
    "\"\"\"\n",
    "# Create prompt template for instruction-tuned model\n",
    "dialogue_template = [\n",
    "        {\"role\": \"user\",\n",
    "        \"content\": base_prompt}\n",
    "    ]\n",
    "\n",
    "# Apply the chat template\n",
    "prompt = tokenizer.apply_chat_template(conversation=dialogue_template,\n",
    "                                          tokenize=False,\n",
    "                                          add_generation_prompt=True)\n",
    "\n",
    "input_ids = tokenizer(prompt, return_tensors=\"pt\").to(\"cuda\")\n",
    "outputs = model.generate(\n",
    "                         **input_ids,\n",
    "                         do_sample=True,\n",
    "                         temperature = 0.7,\n",
    "                         max_new_tokens = 256)\n",
    "\n",
    "# Turn the output tokens into text\n",
    "output_text = tokenizer.decode(outputs[0])\n",
    "\n",
    "print(output_text)"
   ]
  },
  {
   "cell_type": "markdown",
   "metadata": {},
   "source": [
    "# Part 2: Evaluation of RAG\n",
    "Well, our LLM and Retrieval system is working. Next step is to evaluate the results. \n",
    "\n",
    "### see this blog about LaaJ: https://arize.com/blog-course/llm-as-a-judge/\n",
    "How can LLM-as-a-Judge be used for RAG Applications?\n",
    "\n",
    "Contextual relevance and faithfulness are two of the most widely-used metrics for assessing the accuracy and relevance of retrieved files of documents when leveraging LLM RAG."
   ]
  },
  {
   "cell_type": "markdown",
   "metadata": {},
   "source": [
    "## 1. Evaluation of LLM results without RAG"
   ]
  },
  {
   "cell_type": "code",
   "execution_count": null,
   "metadata": {},
   "outputs": [],
   "source": [
    "# List of queries\n",
    "manual_questions = [\"Who are the people bound to pay Jakat?\",\n",
    "                    \"When did battle of badr occured?\",\n",
    "                    \"Name the person who will enter the paradise first?\",\n",
    "                    \n",
    "]\n",
    "chat_gpt = [\n",
    "    \"What rights does Islam grant to women regarding property and inheritance?\",\n",
    "    \"Are women allowed to seek education in Islam?\",\n",
    "    \"Can women work and earn a living in Islam?\",\n",
    "    \"Do women have the right to choose their spouse in Islam?\",\n",
    "    \"What is the Islamic stance on domestic violence?\",\n",
    "    \"Are men and women equal in spiritual matters in Islam?\",\n",
    "    \"Do women have the right to participate in public and political life in Islam?\",\n",
    "    \"What does Islam say about women's dress code?\",\n",
    "    \"Can women lead prayers in Islam?\",\n",
    "    \"How does Islam address the issue of gender equality?\"\n",
    "]\n",
    "\n",
    "query_list = manual_questions + chat_gpt"
   ]
  },
  {
   "cell_type": "code",
   "execution_count": null,
   "metadata": {},
   "outputs": [],
   "source": [
    "## Generate a dataframe for all the queries from query_list\n",
    "\n",
    "# A dataframe to store query, answer, hyperparameters, and Rating\n",
    "eval_df = []\n",
    "\n",
    "# Hyperparameters\n",
    "temperature = 0.6  \n",
    "max_new_tokens = 256\n",
    "\n",
    "for ii in range(len(query_list)):\n",
    "    query = query_list[ii]\n",
    "    \n",
    "    base_prompt = f\"\"\"\n",
    "        Provide a concise answer based on the Quran, tafsir, and hadith.\n",
    "        Do not include the reasoning, just the answer. Make sure the answer is factually correct based on islamic \n",
    "    faith.\n",
    "        \\n{query}\n",
    "    \"\"\"\n",
    "\n",
    "    # Create prompt template for instruction-tuned model\n",
    "    dialogue_template = [\n",
    "            {\"role\": \"user\",\n",
    "            \"content\": base_prompt}\n",
    "        ]\n",
    "    \n",
    "    # Apply the chat template\n",
    "    prompt = tokenizer.apply_chat_template(conversation=dialogue_template,\n",
    "                                              tokenize=False,\n",
    "                                              add_generation_prompt=True)\n",
    "\n",
    "    # Tokenize the prompt\n",
    "    input_ids = tokenizer(prompt, return_tensors=\"pt\").to(\"cuda\")\n",
    "    \n",
    "    prompt_len = input_ids['input_ids'].shape[-1]  # Length of the prompt\n",
    "    \n",
    "    outputs = model.generate(\n",
    "                             **input_ids,\n",
    "                             do_sample=True,\n",
    "                             temperature = temperature,\n",
    "                             max_new_tokens = max_new_tokens)\n",
    "    \n",
    "    # Extract only the generated tokens (ignoring the context and prompt part)\n",
    "    generated_tokens = outputs[0][prompt_len:]\n",
    "    \n",
    "    # Decode the generated response\n",
    "    output_text = tokenizer.decode(generated_tokens, skip_special_tokens=True)\n",
    "\n",
    "    eval_df.append({\n",
    "        \"query\": query,\n",
    "        \"answer\": output_text.replace('<|im_end|>', '').replace('<|im_start|>', ''),\n",
    "        \"temperature\": temperature,\n",
    "        \"max_new_tokens\":max_new_tokens\n",
    "    })"
   ]
  },
  {
   "cell_type": "code",
   "execution_count": null,
   "metadata": {},
   "outputs": [],
   "source": [
    "eval_df = pd.DataFrame(eval_df)\n",
    "eval_df"
   ]
  },
  {
   "cell_type": "code",
   "execution_count": null,
   "metadata": {},
   "outputs": [],
   "source": [
    "import pandas as pd\n",
    "\n",
    "# Show all rows\n",
    "pd.set_option('display.max_rows', None)\n",
    "\n",
    "# Show full width of each column\n",
    "pd.set_option('display.max_colwidth', None)\n",
    "\n",
    "# Now print the selected columns\n",
    "# print(eval_df[['query', 'answer']])\n"
   ]
  },
  {
   "cell_type": "code",
   "execution_count": null,
   "metadata": {},
   "outputs": [],
   "source": [
    "pd.reset_option('display.max_rows')\n",
    "pd.reset_option('display.max_colwidth')"
   ]
  },
  {
   "cell_type": "code",
   "execution_count": null,
   "metadata": {},
   "outputs": [],
   "source": [
    "### Chatgpt 3.5 rating"
   ]
  },
  {
   "cell_type": "code",
   "execution_count": null,
   "metadata": {},
   "outputs": [],
   "source": [
    "import pandas as pd\n",
    "\n",
    "# Data\n",
    "data = {\n",
    "    \"Query\": [\n",
    "        \"Who are the people bound to pay Jakat?\",\n",
    "        \"When did battle of badr occured?\",\n",
    "        \"Name the person who will enter the paradise first?\",\n",
    "        \"What rights does Islam grant to women regarding property and inheritance?\",\n",
    "        \"Are women allowed to seek education in Islam?\",\n",
    "        \"Can women work and earn a living in Islam?\",\n",
    "        \"Do women have the right to choose their spouse in Islam?\",\n",
    "        \"What is the Islamic stance on domestic violence?\",\n",
    "        \"Are men and women equal in spiritual matters in Islam?\",\n",
    "        \"Do women have the right to participate in public and political life in Islam?\",\n",
    "        \"What does Islam say about women's dress code?\",\n",
    "        \"Can women lead prayers in Islam?\",\n",
    "        \"How does Islam address the issue of gender equality?\"\n",
    "    ],\n",
    "    \"Answer\": [\n",
    "        \"The people who are bound to pay Zakat (charity) are those who have wealth exceeding the Nisab threshold and meet other conditions specified in the Quran and Sunnah. Specifically, it includes free adult Muslims who are not exempted due to illness, travel, or old age, and who own more than the Nisab of gold or silver.\",\n",
    "        \"The Battle of Badr occurred in the second year after the migration from Mecca to Medina (624 CE).\",\n",
    "        \"The person who will enter Paradise first is Maryam (Mary).\",\n",
    "        \"In Islam, women have rights to inherit from their families, and they receive a share of the estate that is generally one-half of what is given to a man. However, specific shares can vary based on the legal interpretations and may be influenced by local customs. Women also have rights over their own property and can manage it as per their discretion.\",\n",
    "        \"Yes, women are allowed to seek education in Islam.\",\n",
    "        \"Yes, according to Islamic teachings as interpreted through the Quran, Tafsir, and Hadith, women can work and earn a living.\",\n",
    "        \"Yes, women have the right to choose their spouse in Islam, but it ultimately depends on the consent of their guardians as per Islamic law.\",\n",
    "        \"The Islamic stance on domestic violence is unequivocally against it. According to the Quran and Hadith, a husband is not permitted to beat his wife; instead, he should treat her with kindness and respect.\",\n",
    "        \"In Islam, men and women are considered equal spiritually, as they both have an important role in worship and are equally responsible before Allah.\",\n",
    "        \"Yes, women have the right to participate in public and political life in Islam, as evidenced by various verses in the Quran and narrations from the Prophet Muhammad (PBUH).\",\n",
    "        \"Islam does not prescribe a specific dress code for women, but it emphasizes modesty and privacy. Women are encouraged to dress in a way that covers their awrah (parts of the body that must be concealed) and avoids displaying adornment unnecessarily. The primary focus is on maintaining dignity and respect.\",\n",
    "        \"No, women are not allowed to lead prayers in Islam according to the Quran, tafsir, and hadith.\",\n",
    "        \"Islam addresses the issue of gender equality through various teachings in the Quran, Sunnah, and Hadith, emphasizing that all humans are equal before Allah without distinction of gender, race, or social status. Women are encouraged to pray, fast, give charity, and seek knowledge. They are also commanded to maintain modesty and chastity. However, men and women have different roles and responsibilities within marriage, with men being primarily responsible for providing financially and maintaining the household. Women's testimony in legal matters is considered equal to men's. Overall, Islam promotes equity rather than equality, recognizing inherent differences while ensuring fair treatment and respect for both genders.\"\n",
    "    ],\n",
    "    \"Rating\": [\n",
    "        \"Good\", \"Good\", \"Bad\", \"Okay\", \"Good\", \"Good\", \"Okay\", \"Okay\", \"Good\", \"Good\", \"Okay\", \"Okay\", \"Okay\"\n",
    "    ]\n",
    "}\n",
    "\n",
    "# Create DataFrame\n",
    "df = pd.DataFrame(data)\n",
    "df.head(13)  # Display all 13 rows\n",
    "\n"
   ]
  },
  {
   "cell_type": "markdown",
   "metadata": {},
   "source": [
    "## 2. Evaluation of LLM results with RAG"
   ]
  },
  {
   "cell_type": "code",
   "execution_count": null,
   "metadata": {},
   "outputs": [],
   "source": [
    "# List of queries\n",
    "manual_questions = [\"Who are the people bound to pay Jakat?\",\n",
    "                    \"When did battle of badr occured?\",\n",
    "                    \"Name the person who will enter the paradise first?\",\n",
    "                    \n",
    "]\n",
    "chat_gpt = [\n",
    "    \"What rights does Islam grant to women regarding property and inheritance?\",\n",
    "    \"Are women allowed to seek education in Islam?\",\n",
    "    \"Can women work and earn a living in Islam?\",\n",
    "    \"Do women have the right to choose their spouse in Islam?\",\n",
    "    \"What is the Islamic stance on domestic violence?\",\n",
    "    \"Are men and women equal in spiritual matters in Islam?\",\n",
    "    \"Do women have the right to participate in public and political life in Islam?\",\n",
    "    \"What does Islam say about women's dress code?\",\n",
    "    \"Can women lead prayers in Islam?\",\n",
    "    \"How does Islam address the issue of gender equality?\"\n",
    "]\n",
    "\n",
    "query_list = manual_questions + chat_gpt"
   ]
  },
  {
   "cell_type": "code",
   "execution_count": null,
   "metadata": {},
   "outputs": [],
   "source": [
    "## Generate a dataframe for all the queries from query_list\n",
    "\n",
    "# A dataframe to store query, answer, hyperparameters, and Rating\n",
    "eval_df = []\n",
    "\n",
    "# Hyperparameters\n",
    "temperature = 0.6\n",
    "max_new_tokens = 256\n",
    "\n",
    "top_k = 5\n",
    "\n",
    "for ii in range(len(query_list)):\n",
    "    query = query_list[ii]\n",
    "    response = query_engine.query(query)\n",
    "\n",
    "    # container for all document info\n",
    "    doc_info = []\n",
    "    \n",
    "    top_k = min(top_k, len(response.source_nodes))\n",
    "    \n",
    "    for i in range(top_k):\n",
    "        node = response.source_nodes[i].node\n",
    "        text = node.text\n",
    "        metadata = node.metadata\n",
    "    \n",
    "        file_name = metadata.get('document_name', f'doc_{i}').replace('.pdf', '')\n",
    "        page = str(metadata.get('page_number', 'unknown'))\n",
    "        score = round(response.source_nodes[i].score, 4)\n",
    "    \n",
    "        doc_info.append({\n",
    "            \"score\": score,\n",
    "            \"content\": text.strip(),\n",
    "            \"page\": page,\n",
    "            \"file_name\": file_name\n",
    "        })\n",
    "    \n",
    "    # sort by ascending similarity score\n",
    "    doc_info = sorted(doc_info, key=lambda x: x[\"score\"], reverse=True)\n",
    "    \n",
    "    # now extract individual fields\n",
    "    scores = [str(item[\"score\"]) for item in doc_info]\n",
    "    contents = [item[\"content\"] for item in doc_info]\n",
    "    pages = [item[\"page\"] for item in doc_info]\n",
    "    file_names = [item[\"file_name\"] for item in doc_info]\n",
    "    \n",
    "    # final context dictionary\n",
    "    context = {\n",
    "        \"scores\": ', '.join(scores),\n",
    "        \"content\": \"\\n\".join(contents),\n",
    "        \"page\": ', '.join(pages),\n",
    "        \"file_name\": ', '.join(file_names)\n",
    "    }\n",
    "    \n",
    "    base_prompt = f\"\"\"\n",
    "        You are an expert in Islamic knowledge, specializing in the Quran, authentic Hadith, classical Tafsir, \n",
    "        and Islamic history. Answer the question supported from the context below. Be concise, accurate, and factual. \n",
    "        Avoid speculation, reasoning, or unsupported generalities. \n",
    "        Focus on clarity, authenticity, and relevance and be concise in answering.\n",
    "        \n",
    "        Context:\n",
    "        {context['content']}\n",
    "        Question:\n",
    "        {query}\n",
    "        Answer:\n",
    "        \"\"\"\n",
    "\n",
    "\n",
    "\n",
    "    # Create prompt template for instruction-tuned model\n",
    "    dialogue_template = [\n",
    "            {\"role\": \"user\",\n",
    "            \"content\": base_prompt}\n",
    "        ]\n",
    "    \n",
    "    # Apply the chat template\n",
    "    prompt = tokenizer.apply_chat_template(conversation=dialogue_template,\n",
    "                                              tokenize=False,\n",
    "                                              add_generation_prompt=True)\n",
    "\n",
    "    # Tokenize the prompt\n",
    "    input_ids = tokenizer(prompt, return_tensors=\"pt\").to(\"cuda\")\n",
    "    \n",
    "    prompt_len = input_ids['input_ids'].shape[-1]  # Length of the prompt\n",
    "    \n",
    "    outputs = model.generate(\n",
    "                             **input_ids,\n",
    "                             do_sample=True,\n",
    "                             temperature = temperature,\n",
    "                             max_new_tokens = max_new_tokens)\n",
    "    \n",
    "    # Extract only the generated tokens (ignoring the context and prompt part)\n",
    "    generated_tokens = outputs[0][prompt_len:]\n",
    "    \n",
    "    # Decode the generated response\n",
    "    output_text = tokenizer.decode(generated_tokens, skip_special_tokens=True)\n",
    "\n",
    "    eval_df.append({\n",
    "        \"query\": query,\n",
    "        \"answer\": output_text.replace('<|im_end|>', '').replace('<|im_start|>', ''),\n",
    "        \"temperature\": temperature,\n",
    "        \"max_new_tokens\":max_new_tokens,\n",
    "        \"context_items\": context['content'],\n",
    "        \"scores\":context['scores'],\n",
    "        \"document\": context['file_name'], \n",
    "        \"page_number\": context['page']\n",
    "    })"
   ]
  },
  {
   "cell_type": "code",
   "execution_count": null,
   "metadata": {},
   "outputs": [],
   "source": [
    "eval_df = pd.DataFrame(eval_df)\n",
    "# eval_df"
   ]
  },
  {
   "cell_type": "code",
   "execution_count": null,
   "metadata": {},
   "outputs": [],
   "source": [
    "import pandas as pd\n",
    "\n",
    "# Show all rows\n",
    "pd.set_option('display.max_rows', None)\n",
    "\n",
    "# Show full width of each column\n",
    "pd.set_option('display.max_colwidth', None)\n",
    "\n",
    "# Now print the selected columns\n",
    "# print(eval_df[['query', 'answer']])"
   ]
  },
  {
   "cell_type": "code",
   "execution_count": null,
   "metadata": {},
   "outputs": [],
   "source": [
    "pd.reset_option('display.max_rows')\n",
    "pd.reset_option('display.max_colwidth')"
   ]
  },
  {
   "cell_type": "markdown",
   "metadata": {},
   "source": [
    "###  Evaluation results with chatgpt3.5"
   ]
  },
  {
   "cell_type": "code",
   "execution_count": null,
   "metadata": {},
   "outputs": [],
   "source": []
  }
 ],
 "metadata": {
  "accelerator": "GPU",
  "colab": {
   "gpuType": "T4",
   "provenance": []
  },
  "kernelspec": {
   "display_name": "Python(RAG)",
   "language": "python",
   "name": "rag_env"
  },
  "language_info": {
   "codemirror_mode": {
    "name": "ipython",
    "version": 3
   },
   "file_extension": ".py",
   "mimetype": "text/x-python",
   "name": "python",
   "nbconvert_exporter": "python",
   "pygments_lexer": "ipython3",
   "version": "3.12.8"
  }
 },
 "nbformat": 4,
 "nbformat_minor": 4
}
